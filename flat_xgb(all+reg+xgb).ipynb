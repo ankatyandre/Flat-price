{
 "cells": [
  {
   "cell_type": "code",
   "execution_count": 1,
   "metadata": {},
   "outputs": [],
   "source": [
    "import pandas as pd\n",
    "import numpy as np\n",
    "import matplotlib.pyplot as plt\n",
    "\n",
    "from sklearn.linear_model import LinearRegression\n",
    "from sklearn.ensemble import RandomForestRegressor\n",
    "from xgboost import XGBRegressor\n",
    "\n",
    "\n",
    "\n",
    "from sklearn.metrics import mean_absolute_error\n",
    "from sklearn.model_selection import train_test_split"
   ]
  },
  {
   "cell_type": "code",
   "execution_count": 37,
   "metadata": {},
   "outputs": [],
   "source": [
    "df_train = pd.read_csv('Train.csv')\n",
    "df_test = pd.read_csv('Test.csv')"
   ]
  },
  {
   "cell_type": "code",
   "execution_count": 38,
   "metadata": {
    "scrolled": true
   },
   "outputs": [],
   "source": [
    "df_train['date'] = df_train['date'].apply(lambda x: x[5:7]).astype(int)\n",
    "df_test['date'] = df_test['date'].apply(lambda x: x[5:7]).astype(int)"
   ]
  },
  {
   "cell_type": "code",
   "execution_count": 39,
   "metadata": {},
   "outputs": [],
   "source": [
    "train_all_x = df_train.iloc[:, :24]\n",
    "train_all_y = df_train.iloc[:, 24:]\n",
    "train_all_x_d = train_all_x"
   ]
  },
  {
   "cell_type": "code",
   "execution_count": 40,
   "metadata": {
    "scrolled": false
   },
   "outputs": [
    {
     "data": {
      "text/plain": [
       "30109"
      ]
     },
     "execution_count": 40,
     "metadata": {},
     "output_type": "execute_result"
    }
   ],
   "source": [
    "np.isnan(train_all_x['build_tech']).astype(int).sum()"
   ]
  },
  {
   "cell_type": "code",
   "execution_count": 41,
   "metadata": {
    "scrolled": true
   },
   "outputs": [],
   "source": [
    "def no_more_nan(train_all_x):\n",
    "    train_all_x['build_tech'] = train_all_x['build_tech'].fillna(train_all_x['build_tech'].mean())\n",
    "    train_all_x['n_photos'] = train_all_x['n_photos'].fillna(train_all_x['n_photos'].mean())\n",
    "    train_all_x['metro_dist'] = train_all_x['metro_dist'].fillna(train_all_x['metro_dist'].mean())\n",
    "    train_all_x = train_all_x.fillna(0)\n",
    "    \n",
    "    return train_all_x"
   ]
  },
  {
   "cell_type": "code",
   "execution_count": 42,
   "metadata": {
    "scrolled": true
   },
   "outputs": [],
   "source": [
    "train_all_x = no_more_nan(train_all_x)\n",
    "df_test = no_more_nan(df_test)"
   ]
  },
  {
   "cell_type": "code",
   "execution_count": 44,
   "metadata": {
    "scrolled": false
   },
   "outputs": [
    {
     "data": {
      "text/html": [
       "<div>\n",
       "<style scoped>\n",
       "    .dataframe tbody tr th:only-of-type {\n",
       "        vertical-align: middle;\n",
       "    }\n",
       "\n",
       "    .dataframe tbody tr th {\n",
       "        vertical-align: top;\n",
       "    }\n",
       "\n",
       "    .dataframe thead th {\n",
       "        text-align: right;\n",
       "    }\n",
       "</style>\n",
       "<table border=\"1\" class=\"dataframe\">\n",
       "  <thead>\n",
       "    <tr style=\"text-align: right;\">\n",
       "      <th></th>\n",
       "      <th>id</th>\n",
       "      <th>date</th>\n",
       "      <th>street_id</th>\n",
       "      <th>build_tech</th>\n",
       "      <th>floor</th>\n",
       "      <th>area</th>\n",
       "      <th>rooms</th>\n",
       "      <th>balcon</th>\n",
       "      <th>metro_dist</th>\n",
       "      <th>g_lift</th>\n",
       "      <th>...</th>\n",
       "      <th>kw4</th>\n",
       "      <th>kw5</th>\n",
       "      <th>kw6</th>\n",
       "      <th>kw7</th>\n",
       "      <th>kw8</th>\n",
       "      <th>kw9</th>\n",
       "      <th>kw10</th>\n",
       "      <th>kw11</th>\n",
       "      <th>kw12</th>\n",
       "      <th>kw13</th>\n",
       "    </tr>\n",
       "  </thead>\n",
       "  <tbody>\n",
       "    <tr>\n",
       "      <th>0</th>\n",
       "      <td>0</td>\n",
       "      <td>1</td>\n",
       "      <td>531</td>\n",
       "      <td>0.540942</td>\n",
       "      <td>12</td>\n",
       "      <td>35</td>\n",
       "      <td>1</td>\n",
       "      <td>1</td>\n",
       "      <td>25.0</td>\n",
       "      <td>0.0</td>\n",
       "      <td>...</td>\n",
       "      <td>0</td>\n",
       "      <td>0</td>\n",
       "      <td>0</td>\n",
       "      <td>0</td>\n",
       "      <td>0</td>\n",
       "      <td>0</td>\n",
       "      <td>0</td>\n",
       "      <td>0</td>\n",
       "      <td>0</td>\n",
       "      <td>0</td>\n",
       "    </tr>\n",
       "    <tr>\n",
       "      <th>1</th>\n",
       "      <td>1</td>\n",
       "      <td>1</td>\n",
       "      <td>385</td>\n",
       "      <td>2.000000</td>\n",
       "      <td>15</td>\n",
       "      <td>46</td>\n",
       "      <td>1</td>\n",
       "      <td>2</td>\n",
       "      <td>15.0</td>\n",
       "      <td>1.0</td>\n",
       "      <td>...</td>\n",
       "      <td>0</td>\n",
       "      <td>0</td>\n",
       "      <td>0</td>\n",
       "      <td>0</td>\n",
       "      <td>0</td>\n",
       "      <td>0</td>\n",
       "      <td>0</td>\n",
       "      <td>0</td>\n",
       "      <td>0</td>\n",
       "      <td>0</td>\n",
       "    </tr>\n",
       "    <tr>\n",
       "      <th>2</th>\n",
       "      <td>2</td>\n",
       "      <td>1</td>\n",
       "      <td>51</td>\n",
       "      <td>0.000000</td>\n",
       "      <td>1</td>\n",
       "      <td>53</td>\n",
       "      <td>3</td>\n",
       "      <td>0</td>\n",
       "      <td>30.0</td>\n",
       "      <td>0.0</td>\n",
       "      <td>...</td>\n",
       "      <td>0</td>\n",
       "      <td>0</td>\n",
       "      <td>0</td>\n",
       "      <td>0</td>\n",
       "      <td>0</td>\n",
       "      <td>0</td>\n",
       "      <td>0</td>\n",
       "      <td>0</td>\n",
       "      <td>0</td>\n",
       "      <td>0</td>\n",
       "    </tr>\n",
       "    <tr>\n",
       "      <th>3</th>\n",
       "      <td>3</td>\n",
       "      <td>1</td>\n",
       "      <td>76</td>\n",
       "      <td>0.000000</td>\n",
       "      <td>1</td>\n",
       "      <td>60</td>\n",
       "      <td>3</td>\n",
       "      <td>0</td>\n",
       "      <td>30.0</td>\n",
       "      <td>0.0</td>\n",
       "      <td>...</td>\n",
       "      <td>0</td>\n",
       "      <td>0</td>\n",
       "      <td>0</td>\n",
       "      <td>0</td>\n",
       "      <td>0</td>\n",
       "      <td>0</td>\n",
       "      <td>0</td>\n",
       "      <td>0</td>\n",
       "      <td>0</td>\n",
       "      <td>0</td>\n",
       "    </tr>\n",
       "    <tr>\n",
       "      <th>4</th>\n",
       "      <td>4</td>\n",
       "      <td>1</td>\n",
       "      <td>114</td>\n",
       "      <td>0.000000</td>\n",
       "      <td>2</td>\n",
       "      <td>43</td>\n",
       "      <td>2</td>\n",
       "      <td>0</td>\n",
       "      <td>30.0</td>\n",
       "      <td>0.0</td>\n",
       "      <td>...</td>\n",
       "      <td>0</td>\n",
       "      <td>0</td>\n",
       "      <td>0</td>\n",
       "      <td>0</td>\n",
       "      <td>0</td>\n",
       "      <td>0</td>\n",
       "      <td>0</td>\n",
       "      <td>0</td>\n",
       "      <td>0</td>\n",
       "      <td>0</td>\n",
       "    </tr>\n",
       "  </tbody>\n",
       "</table>\n",
       "<p>5 rows × 24 columns</p>\n",
       "</div>"
      ],
      "text/plain": [
       "   id  date  street_id  build_tech  floor  area  rooms  balcon  metro_dist  \\\n",
       "0   0     1        531    0.540942     12    35      1       1        25.0   \n",
       "1   1     1        385    2.000000     15    46      1       2        15.0   \n",
       "2   2     1         51    0.000000      1    53      3       0        30.0   \n",
       "3   3     1         76    0.000000      1    60      3       0        30.0   \n",
       "4   4     1        114    0.000000      2    43      2       0        30.0   \n",
       "\n",
       "   g_lift  ...   kw4  kw5  kw6  kw7  kw8  kw9  kw10  kw11  kw12  kw13  \n",
       "0     0.0  ...     0    0    0    0    0    0     0     0     0     0  \n",
       "1     1.0  ...     0    0    0    0    0    0     0     0     0     0  \n",
       "2     0.0  ...     0    0    0    0    0    0     0     0     0     0  \n",
       "3     0.0  ...     0    0    0    0    0    0     0     0     0     0  \n",
       "4     0.0  ...     0    0    0    0    0    0     0     0     0     0  \n",
       "\n",
       "[5 rows x 24 columns]"
      ]
     },
     "execution_count": 44,
     "metadata": {},
     "output_type": "execute_result"
    }
   ],
   "source": [
    "train_all_x.head()"
   ]
  },
  {
   "cell_type": "code",
   "execution_count": 45,
   "metadata": {},
   "outputs": [
    {
     "data": {
      "text/plain": [
       "100000"
      ]
     },
     "execution_count": 45,
     "metadata": {},
     "output_type": "execute_result"
    }
   ],
   "source": [
    "reg_ad = LinearRegression().fit(train_all_x, train_all_y)\n",
    "reg_to_ad = reg_ad.predict(train_all_x)\n",
    "reg_ad_test = reg_ad.predict(df_test)\n",
    "len(reg_to_ad)"
   ]
  },
  {
   "cell_type": "code",
   "execution_count": 46,
   "metadata": {
    "scrolled": true
   },
   "outputs": [],
   "source": [
    "train_all_x['reg'] = reg_to_ad\n",
    "df_test['reg'] = reg_ad_test"
   ]
  },
  {
   "cell_type": "code",
   "execution_count": 47,
   "metadata": {
    "scrolled": true
   },
   "outputs": [],
   "source": [
    "def kw_all(df):\n",
    "    df['kw_all'] = df['kw1']+df['kw2']+df['kw3']+df['kw4']+df['kw5']+df['kw6']+df['kw7']+df['kw8']+df['kw9']+df['kw10']+df['kw11']+df['kw12']+df['kw13']\n",
    "    return df"
   ]
  },
  {
   "cell_type": "code",
   "execution_count": 50,
   "metadata": {},
   "outputs": [],
   "source": [
    "train_all_x = kw_all(train_all_x)\n",
    "df_test = kw_all(df_test)"
   ]
  },
  {
   "cell_type": "code",
   "execution_count": null,
   "metadata": {},
   "outputs": [],
   "source": []
  },
  {
   "cell_type": "code",
   "execution_count": 48,
   "metadata": {},
   "outputs": [
    {
     "name": "stdout",
     "output_type": "stream",
     "text": [
      "[12:57:10] WARNING: C:/Jenkins/workspace/xgboost-win64_release_0.90/src/objective/regression_obj.cu:152: reg:linear is now deprecated in favor of reg:squarederror.\n"
     ]
    }
   ],
   "source": [
    "xgb_ad_8_02_400_23 = XGBRegressor(max_depth=8, learning_rate=0.2, n_estimators=50,min_child_weight =23, eval_metric= 'mae').fit(train_all_x, train_all_y)\n",
    "xgb_pred_8_02_400_23 = xgb_ad_8_02_400_23.predict(train_all_x)\n",
    "xgb_pred = xgb_ad_8_02_400_23.predict(df_test)"
   ]
  },
  {
   "cell_type": "code",
   "execution_count": 49,
   "metadata": {},
   "outputs": [],
   "source": [
    "train_all_x['xgb_ad_8_02_400_23'] = xgb_pred_8_02_400_23\n",
    "df_test['xgb_ad_8_02_400_23'] = xgb_pred"
   ]
  },
  {
   "cell_type": "code",
   "execution_count": 51,
   "metadata": {
    "scrolled": true
   },
   "outputs": [],
   "source": [
    "X_train,X_test,y_train,y_test = train_test_split(train_all_x, train_all_y.astype(int), test_size=0.25, random_state=42, shuffle = False)"
   ]
  },
  {
   "cell_type": "code",
   "execution_count": 37,
   "metadata": {
    "scrolled": true
   },
   "outputs": [],
   "source": [
    "#train_all_x.corr()"
   ]
  },
  {
   "cell_type": "code",
   "execution_count": 52,
   "metadata": {},
   "outputs": [
    {
     "data": {
      "text/plain": [
       "1105114.1738509112"
      ]
     },
     "execution_count": 52,
     "metadata": {},
     "output_type": "execute_result"
    }
   ],
   "source": [
    "reg = LinearRegression().fit(X_train, y_train)\n",
    "reg_pred = reg.predict(X_test)\n",
    "mean_absolute_error(reg_pred, y_test)"
   ]
  },
  {
   "cell_type": "code",
   "execution_count": null,
   "metadata": {},
   "outputs": [],
   "source": []
  },
  {
   "cell_type": "code",
   "execution_count": 76,
   "metadata": {
    "scrolled": true
   },
   "outputs": [
    {
     "name": "stdout",
     "output_type": "stream",
     "text": [
      "[17:31:00] WARNING: C:/Jenkins/workspace/xgboost-win64_release_0.90/src/objective/regression_obj.cu:152: reg:linear is now deprecated in favor of reg:squarederror.\n",
      "906024.83277\n",
      "Wall time: 1min 56s\n"
     ]
    }
   ],
   "source": [
    "%%time\n",
    "xgb = XGBRegressor(max_depth=8, learning_rate=0.2, n_estimators=400, min_child_weight =23, eval_metric= 'mae', random_state = 1).fit(X_train, y_train)\n",
    "xgb_pred = xgb.predict(X_test)\n",
    "xgb_mae = mean_absolute_error(xgb_pred, y_test)\n",
    "print(xgb_mae)"
   ]
  },
  {
   "cell_type": "code",
   "execution_count": null,
   "metadata": {},
   "outputs": [],
   "source": [
    "kw_all + reg(train_all+xgb) +xgb(train_all)\n",
    "\n",
    "906024.83277 --max_depth=8, learning_rate=0.2, n_estimators=400, min_child_weight =23\n",
    "\n",
    "921573.664865 --max_depth=8, learning_rate=0.2, n_estimators=300, min_child_weight =25\n",
    "950581.7382125 --max_depth=8, learning_rate=0.2, n_estimators=300, min_child_weight =24\n",
    "920085.0162775 --max_depth=8, learning_rate=0.2, n_estimators=300, min_child_weight =22\n",
    "940261.5057675 --max_depth=8, learning_rate=0.2, n_estimators=300, min_child_weight =21\n",
    "940682.38684 --max_depth=8, learning_rate=0.2, n_estimators=300, min_child_weight =20\n",
    "\n",
    "941096.50214 --max_depth=8, learning_rate=0.22, n_estimators=300,min_child_weight =23\n",
    "918824.166525 --max_depth=8, learning_rate=0.18, n_estimators=300,min_child_weight =23\n",
    "918190.210065 --max_depth=8, learning_rate=0.19, n_estimators=300,min_child_weight =23\n",
    "937727.386685 --max_depth=8, learning_rate=0.21, n_estimators=300,min_child_weight =23\n",
    "\n",
    "+905850.62393 --max_depth=8, learning_rate=0.2, n_estimators=300,min_child_weight =23 \n",
    "932375.1894525 --max_depth=10, learning_rate=0.2, n_estimators=300,min_child_weight =23\n",
    "942567.06822 --max_depth=6, learning_rate=0.2, n_estimators=300,min_child_weight =23\n",
    "910863.4241775 --max_depth=7, learning_rate=0.2, n_estimators=300,min_child_weight =23\n",
    "930725.5708075 --max_depth=9, learning_rate=0.2, n_estimators=300,min_child_weight =23\n",
    "    "
   ]
  },
  {
   "cell_type": "code",
   "execution_count": null,
   "metadata": {},
   "outputs": [],
   "source": [
    "kw_all + reg(train_all)\n",
    "\n",
    "962850.4630814062 --max_depth=8, learning_rate=0.2, n_estimators=400,min_child_weight =23\n",
    "\n",
    "985019.9811825 --max_depth=8, learning_rate=0.2, n_estimators=300,min_child_weight =20\n",
    "*967587.150561875 --max_depth=8, learning_rate=0.2, n_estimators=300,min_child_weight =23\n",
    "984436.206763125 --max_depth=8, learning_rate=0.2, n_estimators=300,min_child_weight =24\n",
    "__\n",
    "1361579.9856875 --max_depth=8, learning_rate=0.22, n_estimators=50,min_child_weight =23\n",
    "1391768.97323 --max_depth=8, learning_rate=0.2, n_estimators=50,min_child_weight =24\n",
    "1380256.7940575 --max_depth=8, learning_rate=0.2, n_estimators=50,min_child_weight =25\n",
    "1360917.22109 --max_depth=8, learning_rate=0.22, n_estimators=50,min_child_weight =22\n",
    "1350778.610455 --max_depth=8, learning_rate=0.22, n_estimators=50,min_child_weight =21\n",
    "-1325919.698035 --max_depth=8, learning_rate=0.22, n_estimators=50,min_child_weight =20\n",
    "1331409.3910325 --max_depth=8, learning_rate=0.22, n_estimators=50,min_child_weight =19\n",
    "1346910.936505 --max_depth=8, learning_rate=0.22, n_estimators=50,min_child_weight =18\n",
    "\n",
    "1379874.3758425 --max_depth=8, learning_rate=0.2, n_estimators=50,min_child_weight =231379874.3758425\n",
    "1391599.5824975 --max_depth=8, learning_rate=0.19, n_estimators=50,min_child_weight =23\n",
    "-1361579.9856875 --max_depth=8, learning_rate=0.22, n_estimators=50,min_child_weight =23\n",
    "__\n",
    "992391.1315125 --max_depth=8, learning_rate=0.21, n_estimators=300,min_child_weight =23\n",
    "976469.985785 --max_depth=8, learning_rate=0.19, n_estimators=300,min_child_weight =23\n",
    "\n",
    "1023949.1333875 --max_depth=12, learning_rate=0.2, n_estimators=300,min_child_weight =23\n",
    "1001002.139025 --max_depth=11, learning_rate=0.2, n_estimators=300,min_child_weight =23\n",
    "1000598.8239375 --max_depth=10, learning_rate=0.2, n_estimators=300,min_child_weight =23\n",
    "966723.50422375 --max_depth=9, learning_rate=0.2, n_estimators=300,min_child_weight =23\n",
    "+967587.150561875 --max_depth=8, learning_rate=0.2, n_estimators=300,min_child_weight =23\n",
    "972168.9276775 --max_depth=7, learning_rate=0.2, n_estimators=300,min_child_weight =23"
   ]
  },
  {
   "cell_type": "code",
   "execution_count": 55,
   "metadata": {},
   "outputs": [
    {
     "ename": "SyntaxError",
     "evalue": "invalid syntax (<ipython-input-55-ce53ba3af53c>, line 2)",
     "output_type": "error",
     "traceback": [
      "\u001b[1;36m  File \u001b[1;32m\"<ipython-input-55-ce53ba3af53c>\"\u001b[1;36m, line \u001b[1;32m2\u001b[0m\n\u001b[1;33m    $ -\u001b[0m\n\u001b[1;37m    ^\u001b[0m\n\u001b[1;31mSyntaxError\u001b[0m\u001b[1;31m:\u001b[0m invalid syntax\n"
     ]
    }
   ],
   "source": [
    "kw_all = all \n",
    "\n",
    "++1040354.3905878125 --max_depth=12, learning_rate=0.2, n_estimators=300,min_child_weight =23\n",
    "\n",
    "1059796.392741875 --max_depth=12, learning_rate=0.2, n_estimators=300,min_child_weight =24\n",
    "1072012.5983840625 --max_depth=12, learning_rate=0.2, n_estimators=300,min_child_weight =25\n",
    "1065981.525840078 --max_depth=12, learning_rate=0.2, n_estimators=300,min_child_weight =22\n",
    "    \n",
    "1046936.04384 --max_depth=12, learning_rate=0.2, n_estimators=200,min_child_weight =23\n",
    "1046141.178086875 --max_depth=12, learning_rate=0.2, n_estimators=250,min_child_weight =23\n",
    "1041415.3766671875 --max_depth=12, learning_rate=0.2, n_estimators=350,min_child_weight =23\n",
    "\n",
    "+1040354.3905878125 --max_depth=12, learning_rate=0.2, n_estimators=300,min_child_weight =23, eval_metric= 'mae'\n",
    "1054798.586728125 --max_depth=12, learning_rate=0.18, n_estimators=300,min_child_weight =23\n",
    "1078943.7528842578 --max_depth=12, learning_rate=0.19, n_estimators=300,min_child_weight =23\n",
    "1082112.002559922 --max_depth=12, learning_rate=0.21, n_estimators=300,min_child_weight =23\n",
    "1121473.7090925 --max_depth=12, learning_rate=0.25, n_estimators=300,min_child_weight =23\n",
    "\n",
    "1104826.513430547 --max_depth=11, learning_rate=0.23, n_estimators=300,min_child_weight =21\n",
    "1074625.5027826563 --max_depth=11, learning_rate=0.23, n_estimators=300,min_child_weight =22\n",
    "1076312.278398125  --max_depth=11, learning_rate=0.23, n_estimators=300,min_child_weight =23\n",
    "+1066766.8459231288 --max_depth=12, learning_rate=0.23, n_estimators=300,min_child_weight =23\n",
    "1088418.7727475 --max_depth=13, learning_rate=0.23, n_estimators=300,min_child_weight =23"
   ]
  },
  {
   "cell_type": "code",
   "execution_count": null,
   "metadata": {},
   "outputs": [],
   "source": [
    "kw_all == 10+13\n",
    "1052256.1394975 -max_depth=11, learning_rate=0.23, n_estimators=300,min_child_weight =21,gamma = 30\n",
    "1052256.1394975 -max_depth=11, learning_rate=0.23, n_estimators=300,min_child_weight =21,gamma = 50\n",
    "1052256.1394975  -max_depth=11, learning_rate=0.23, n_estimators=300,min_child_weight =21,gamma = 500\n",
    "\n",
    "no change\n",
    "1129773.1731574219 --max_depth=11, learning_rate=0.23, n_estimators=300,min_child_weight =10\n",
    "1125427.0251547266 --max_depth=11, learning_rate=0.23, n_estimators=300,min_child_weight =15\n",
    "1067645.7519520458 --max_depth=11, learning_rate=0.23, n_estimators=300,min_child_weight =20\n",
    "1097996.3700570704 --max_depth=11, learning_rate=0.23, n_estimators=300,min_child_weight =25\n",
    "+*1048835.781024375 --max_depth=11, learning_rate=0.23, n_estimators=300,min_child_weight =22\n",
    "1105452.059796875 --max_depth=11, learning_rate=0.23, n_estimators=300,min_child_weight =23\n",
    "1085935.9652590626 --max_depth=11, learning_rate=0.23, n_estimators=300,min_child_weight =21\n",
    "\n",
    "1194588.359026875 -- max_depth=11, learning_rate=0.23, n_estimators=200\n",
    "1189501.2317166405 --max_depth=11, learning_rate=0.23, n_estimators=300\n",
    "\n",
    "n_estimators=100\n",
    "1359123.300235 -- max_d = 11, rate =0.1\n",
    "1341221.0255725 -- max_d = 11, rate =0.11\n",
    "1283818.43950625  -- max_d = 11, rate =0.15\n",
    "1271262.40752375 -- max_d = 11, rate =0.2\n",
    "1245637.9609341796 -- max_d = 11, rate =0.25\n",
    "1277047.9388689843 ---- max_d = 11, rate =0.3\n",
    "1227098.794810625---- max_d = 11, rate =0.23\n",
    "1225849.891115\n",
    "\n",
    "rate =0.1 n_estimators=100\n",
    "1588391.82617 -- max_d =5\n",
    "1408624.671765 -- max_d = 7\n",
    "1362923.933185 -- max_d = 9\n",
    "1359123.300235 -- max_d = 11\n",
    "1545709.944415  -- mad_d =15"
   ]
  },
  {
   "cell_type": "code",
   "execution_count": 133,
   "metadata": {},
   "outputs": [
    {
     "data": {
      "text/plain": [
       "id              int64\n",
       "date           object\n",
       "street_id       int64\n",
       "build_tech    float64\n",
       "floor           int64\n",
       "area            int64\n",
       "rooms           int64\n",
       "balcon          int64\n",
       "metro_dist    float64\n",
       "g_lift        float64\n",
       "n_photos        int64\n",
       "kw1             int64\n",
       "kw2             int64\n",
       "kw3             int64\n",
       "kw4             int64\n",
       "kw5             int64\n",
       "kw6             int64\n",
       "kw7             int64\n",
       "kw8             int64\n",
       "kw9             int64\n",
       "kw10            int64\n",
       "kw11            int64\n",
       "kw12            int64\n",
       "kw13            int64\n",
       "dtype: object"
      ]
     },
     "execution_count": 133,
     "metadata": {},
     "output_type": "execute_result"
    }
   ],
   "source": [
    "df_test.dtypes"
   ]
  },
  {
   "cell_type": "code",
   "execution_count": null,
   "metadata": {},
   "outputs": [],
   "source": [
    "max_depth=8, learning_rate=0.2, n_estimators=300,min_child_weight =23 "
   ]
  },
  {
   "cell_type": "code",
   "execution_count": null,
   "metadata": {},
   "outputs": [],
   "source": []
  },
  {
   "cell_type": "code",
   "execution_count": 72,
   "metadata": {},
   "outputs": [
    {
     "name": "stdout",
     "output_type": "stream",
     "text": [
      "[13:31:10] WARNING: C:/Jenkins/workspace/xgboost-win64_release_0.90/src/objective/regression_obj.cu:152: reg:linear is now deprecated in favor of reg:squarederror.\n"
     ]
    }
   ],
   "source": [
    "xgb = XGBRegressor(max_depth=8, learning_rate=0.2, n_estimators=300,min_child_weight =23, eval_metric= 'mae').fit(train_all_x, train_all_y)\n",
    "xgb_pred = xgb.predict(df_test)\n",
    "#xgb_mae = mean_absolute_error(xgb_pred, y_test)\n",
    "#xgb_mae"
   ]
  },
  {
   "cell_type": "code",
   "execution_count": null,
   "metadata": {},
   "outputs": [],
   "source": []
  },
  {
   "cell_type": "code",
   "execution_count": 73,
   "metadata": {},
   "outputs": [],
   "source": [
    "df_test[\"price\"] = xgb_pred\n",
    "\n",
    "df_test[[\"id\", \"price\"]].to_csv(\"xgb_8_2_300_23_all_reg_xgb.csv\", index=False)"
   ]
  },
  {
   "cell_type": "code",
   "execution_count": null,
   "metadata": {},
   "outputs": [],
   "source": []
  },
  {
   "cell_type": "code",
   "execution_count": null,
   "metadata": {},
   "outputs": [],
   "source": []
  },
  {
   "cell_type": "code",
   "execution_count": null,
   "metadata": {},
   "outputs": [],
   "source": []
  },
  {
   "cell_type": "code",
   "execution_count": null,
   "metadata": {},
   "outputs": [],
   "source": []
  },
  {
   "cell_type": "code",
   "execution_count": null,
   "metadata": {},
   "outputs": [],
   "source": []
  }
 ],
 "metadata": {
  "kernelspec": {
   "display_name": "Python 3",
   "language": "python",
   "name": "python3"
  },
  "language_info": {
   "codemirror_mode": {
    "name": "ipython",
    "version": 3
   },
   "file_extension": ".py",
   "mimetype": "text/x-python",
   "name": "python",
   "nbconvert_exporter": "python",
   "pygments_lexer": "ipython3",
   "version": "3.7.0"
  }
 },
 "nbformat": 4,
 "nbformat_minor": 2
}
